{
 "cells": [
  {
   "cell_type": "code",
   "execution_count": 1,
   "metadata": {},
   "outputs": [],
   "source": [
    "### Prueba de convolucion de variables aleatorias por el metodo FFT\n",
    "\n",
    "## Clases S4\n",
    "\n",
    "#Creamos las clases de convoluciones de algunas distribuciones importantes\n",
    "\n",
    "#Clases general de convolucion\n",
    "setClass(\n",
    "  \"Convolucion\", representation(potencia=\"numeric\"),\n",
    "    prototype(potencia=NA_integer_) \n",
    ")\n",
    "\n",
    "#Clase de distribucion binomial\n",
    "setClass(\n",
    "  \"Convolucion Binomial\", representation(n=\"numeric\", p=\"numeric\"),\n",
    "    contains = \"Convolucion\"\n",
    ")\n",
    "\n",
    "#Clases de distribucion normal\n",
    "setClass(\n",
    "  \"Convolucion Normal\", representation(media=\"numeric\", varianza=\"numeric\"),\n",
    "    contains = \"Convolucion\"\n",
    ")\n",
    "\n"
   ]
  },
  {
   "cell_type": "code",
   "execution_count": 2,
   "metadata": {},
   "outputs": [
    {
     "data": {
      "text/html": [
       "'convoluciones'"
      ],
      "text/latex": [
       "'convoluciones'"
      ],
      "text/markdown": [
       "'convoluciones'"
      ],
      "text/plain": [
       "[1] \"convoluciones\""
      ]
     },
     "metadata": {},
     "output_type": "display_data"
    },
    {
     "data": {
      "text/html": [
       "'convoluciones'"
      ],
      "text/latex": [
       "'convoluciones'"
      ],
      "text/markdown": [
       "'convoluciones'"
      ],
      "text/plain": [
       "[1] \"convoluciones\""
      ]
     },
     "metadata": {},
     "output_type": "display_data"
    },
    {
     "data": {
      "text/html": [
       "'convoluciones'"
      ],
      "text/latex": [
       "'convoluciones'"
      ],
      "text/markdown": [
       "'convoluciones'"
      ],
      "text/plain": [
       "[1] \"convoluciones\""
      ]
     },
     "metadata": {},
     "output_type": "display_data"
    }
   ],
   "source": [
    "## Metodos de las clases S4\n",
    "\n",
    "#Metodos para las convoluciones de algunas distribuciones\n",
    "\n",
    "#Metodo generico\n",
    "setGeneric(\n",
    "  \"convoluciones\",\n",
    "  function(object){\n",
    "    standardGeneric(\"convoluciones\")\n",
    "  }\n",
    ")\n",
    "\n",
    "#Metodo para la convolucion de distribucion binomial\n",
    "setMethod(\n",
    "  \"convoluciones\",\n",
    "  signature(\"Convolucion Binomial\"),\n",
    "  function(object){\n",
    "    library(\"distrEx\")\n",
    "    distroptions(TruncQuantile = 1e-15)\n",
    "    D2 <- as(convpow(Binom(size = object@n, prob = object@p), N= object@potencia), \n",
    "             \"LatticeDistribution\")         #METODO FFT\n",
    "    D2\n",
    "    }\n",
    ")\n",
    "\n",
    "#Metodo para la convolucion de distribucion normal\n",
    "setMethod(\n",
    "  \"convoluciones\",\n",
    "  signature(\"Convolucion Normal\"),\n",
    "  function(object){\n",
    "    distroptions(TruncQuantile = 1e-10)\n",
    "    distroptions(DefaultNrFFTGridPointsExponent = 14)\n",
    "    D2 <- as(convpow(Norm(mean = object@media, sd= sqrt(object@varianza)), N= object@potencia),\n",
    "             \"AbscontDistribution\")             # METODO FFT\n",
    "    D2\n",
    "  }\n",
    "  \n",
    ")\n"
   ]
  },
  {
   "cell_type": "code",
   "execution_count": 3,
   "metadata": {},
   "outputs": [],
   "source": [
    "## Creamos los objetos de prueba\n",
    "\n",
    "#Crearemos 2 objetos de prueba, para verificar que se cumplen los metodos\n",
    "\n",
    "#Distribucion Binomial\n",
    "ejem4 <- new(\n",
    "  \"Convolucion Binomial\",\n",
    "  n=40, p=0.6,\n",
    "  potencia=14\n",
    ")\n",
    "\n",
    "#Distribucion Normal\n",
    "ejem5 <- new(\n",
    "        \"Convolucion Normal\",\n",
    "        media= 3, varianza= 25,\n",
    "        potencia= 10\n",
    ")\n"
   ]
  },
  {
   "cell_type": "code",
   "execution_count": 4,
   "metadata": {},
   "outputs": [
    {
     "name": "stderr",
     "output_type": "stream",
     "text": [
      "Loading required package: distr\n",
      "Loading required package: startupmsg\n",
      "Utilities for Start-Up Messages (version 0.9.4)\n",
      "For more information see ?\"startupmsg\", NEWS(\"startupmsg\")\n",
      "\n",
      "Loading required package: sfsmisc\n",
      "Loading required package: SweaveListingUtils\n",
      "Utilities for Sweave Together with TeX 'listings' Package (version 0.7.7)\n",
      "NOTE: Support for this package will stop soon.\n",
      "Package 'knitr' is providing the same functionality in a better way.\n",
      "Some functions from package 'base' are intentionally masked ---see SweaveListingMASK().\n",
      "Note that global options are controlled by SweaveListingoptions() ---c.f. ?\"SweaveListingoptions\".\n",
      "For more information see ?\"SweaveListingUtils\", NEWS(\"SweaveListingUtils\")\n",
      "There is a vignette to this package; try vignette(\"ExampleSweaveListingUtils\").\n",
      "\n",
      "\n",
      "Attaching package: ‘SweaveListingUtils’\n",
      "\n",
      "The following objects are masked from ‘package:base’:\n",
      "\n",
      "    library, require\n",
      "\n",
      "Object Oriented Implementation of Distributions (version 2.6.2)\n",
      "Attention: Arithmetics on distribution objects are understood as operations on corresponding random variables (r.v.s); see distrARITH().\n",
      "Some functions from package 'stats' are intentionally masked ---see distrMASK().\n",
      "Note that global options are controlled by distroptions() ---c.f. ?\"distroptions\".\n",
      "For more information see ?\"distr\", NEWS(\"distr\"), as well as\n",
      "  http://distr.r-forge.r-project.org/\n",
      "Package \"distrDoc\" provides a vignette to this package as well as to several extension packages; try vignette(\"distr\").\n",
      "\n",
      "\n",
      "Attaching package: ‘distr’\n",
      "\n",
      "The following objects are masked from ‘package:stats’:\n",
      "\n",
      "    df, qqplot, sd\n",
      "\n",
      "Extensions of Package 'distr' (version 2.6.1)\n",
      "Note: Packages \"e1071\", \"moments\", \"fBasics\" should be attached /before/ package \"distrEx\". See distrExMASK().Note: Extreme value distribution functionality has been moved to\n",
      "      package \"RobExtremes\". See distrExMOVED().\n",
      "For more information see ?\"distrEx\", NEWS(\"distrEx\"), as well as\n",
      "  http://distr.r-forge.r-project.org/\n",
      "Package \"distrDoc\" provides a vignette to this package as well as to several related packages; try vignette(\"distr\").\n",
      "\n",
      "\n",
      "Attaching package: ‘distrEx’\n",
      "\n",
      "The following objects are masked from ‘package:stats’:\n",
      "\n",
      "    IQR, mad, median, var\n",
      "\n"
     ]
    },
    {
     "data": {
      "text/plain": [
       "Distribution Object of Class: LatticeDistribution\n",
       " size: 560\n",
       " prob: 0.6"
      ]
     },
     "metadata": {},
     "output_type": "display_data"
    },
    {
     "data": {
      "text/plain": [
       "Distribution Object of Class: AbscontDistribution\n",
       " mean: 30\n",
       " sd: 15.8113883008419"
      ]
     },
     "metadata": {},
     "output_type": "display_data"
    }
   ],
   "source": [
    "## Hallemos la convolucion de nuestros objetos\n",
    "\n",
    "\n",
    "#Convolucion binomial\n",
    "ejemplo.conv.bin <- convoluciones(ejem4)\n",
    "ejemplo.conv.bin\n",
    "\n",
    "\n",
    "#Convolucion normal\n",
    "ejemplo1.conv.norm <- convoluciones(ejem5)\n",
    "ejemplo1.conv.norm"
   ]
  },
  {
   "cell_type": "code",
   "execution_count": null,
   "metadata": {},
   "outputs": [],
   "source": []
  }
 ],
 "metadata": {
  "kernelspec": {
   "display_name": "R",
   "language": "R",
   "name": "ir"
  },
  "language_info": {
   "codemirror_mode": "r",
   "file_extension": ".r",
   "mimetype": "text/x-r-source",
   "name": "R",
   "pygments_lexer": "r",
   "version": "3.4.3"
  }
 },
 "nbformat": 4,
 "nbformat_minor": 2
}

{
 "cells": [
  {
   "cell_type": "code",
   "execution_count": 2,
   "metadata": {},
   "outputs": [],
   "source": [
    "### Programa que nos muestra el uso de las clases S4 en el calculo de las variables aleatorias en R\n",
    "\n",
    "## Clases S4\n",
    "\n",
    "##Creamos las clases de algunas distribuciones conocidas\n",
    "\n",
    "#Distribucion general\n",
    "setClass(\n",
    "    \"Distribuciones\", representation(primer_para= \"numeric\", segundo_para= \"numeric\"),\n",
    "    prototype(primer_para= NA_real_, segundo_para= NA_real_)\n",
    "  )\n",
    "\n",
    "#Distribucion Normal\n",
    "setClass(\n",
    "    \"Distribucion Normal\", contains = \"Distribuciones\"\n",
    ")\n",
    "\n",
    "#Distribucion Uniforme\n",
    "setClass(\n",
    "    \"Distribucion Uniforme\", contains = \"Distribuciones\"\n",
    ")\n",
    "\n",
    "#Distribucion de Poison\n",
    "setClass(\n",
    "    \"Distribucion de Poison\", contains = \"Distribuciones\"\n",
    ")\n",
    "\n"
   ]
  },
  {
   "cell_type": "code",
   "execution_count": 3,
   "metadata": {},
   "outputs": [
    {
     "data": {
      "text/html": [
       "'distribuciones'"
      ],
      "text/latex": [
       "'distribuciones'"
      ],
      "text/markdown": [
       "'distribuciones'"
      ],
      "text/plain": [
       "[1] \"distribuciones\""
      ]
     },
     "metadata": {},
     "output_type": "display_data"
    },
    {
     "data": {
      "text/html": [
       "'distribuciones'"
      ],
      "text/latex": [
       "'distribuciones'"
      ],
      "text/markdown": [
       "'distribuciones'"
      ],
      "text/plain": [
       "[1] \"distribuciones\""
      ]
     },
     "metadata": {},
     "output_type": "display_data"
    },
    {
     "data": {
      "text/html": [
       "'distribuciones'"
      ],
      "text/latex": [
       "'distribuciones'"
      ],
      "text/markdown": [
       "'distribuciones'"
      ],
      "text/plain": [
       "[1] \"distribuciones\""
      ]
     },
     "metadata": {},
     "output_type": "display_data"
    },
    {
     "data": {
      "text/html": [
       "'distribuciones'"
      ],
      "text/latex": [
       "'distribuciones'"
      ],
      "text/markdown": [
       "'distribuciones'"
      ],
      "text/plain": [
       "[1] \"distribuciones\""
      ]
     },
     "metadata": {},
     "output_type": "display_data"
    }
   ],
   "source": [
    "## Metodos S4\n",
    "\n",
    "##Creamos el metodo generico y el metodo para cada una de las distribuciones\n",
    "\n",
    "#Metodo generico\n",
    "setGeneric(\n",
    "  \"distribuciones\",\n",
    "  function(object) {\n",
    "    standardGeneric(\"distribuciones\")\n",
    "  }\n",
    ")\n",
    "\n",
    "#Metodo para una distribucion normal\n",
    "setMethod(\n",
    "  \"distribuciones\",\n",
    "  signature(\"Distribucion Normal\"),\n",
    "  function(object) {\n",
    "    library(distr)\n",
    "    N<- Norm(mean= object@primer_para, sd=object@segundo_para)\n",
    "    N\n",
    "  }\n",
    ")\n",
    "\n",
    "#Metodo para una distribucion uniforme\n",
    "setMethod(\n",
    "  \"distribuciones\",\n",
    "  signature(\"Distribucion Uniforme\"),\n",
    "  function(object) {\n",
    "    library(distr)\n",
    "    N<- Unif(Max = object@primer_para, Min=object@segundo_para)\n",
    "    N\n",
    "  }\n",
    ")\n",
    "\n",
    "#Metodo para una distribucion de poison\n",
    "setMethod(\n",
    "  \"distribuciones\",\n",
    "  signature(\"Distribucion de Poison\"),\n",
    "  function(object){\n",
    "    library(distr)\n",
    "    N<- Pois(lambda = object@primer_para)\n",
    "    N\n",
    "  }\n",
    ")\n",
    " "
   ]
  },
  {
   "cell_type": "code",
   "execution_count": 4,
   "metadata": {},
   "outputs": [],
   "source": [
    "## Creamos los objetos de prueba\n",
    "\n",
    "###Crearemos 3 objetos de prueba:\n",
    "\n",
    "#Objeto de una distribucion normal\n",
    "ejemp1 <- new(\"Distribucion Normal\",\n",
    "           primer_para=2,\n",
    "          segundo_para=1.3\n",
    ")\n",
    "\n",
    "#Objeto de una distribucion uniforme\n",
    "ejem2 <- new(\"Distribucion Uniforme\",\n",
    "          primer_para=2,\n",
    "          segundo_para=0\n",
    ")\n",
    "\n",
    "#Objeto de una distribucion de poison\n",
    "ejem3 <-new(\"Distribucion de Poison\",\n",
    "        primer_para=3\n",
    ")"
   ]
  },
  {
   "cell_type": "code",
   "execution_count": 5,
   "metadata": {},
   "outputs": [
    {
     "name": "stderr",
     "output_type": "stream",
     "text": [
      "Loading required package: startupmsg\n",
      "Utilities for Start-Up Messages (version 0.9.4)\n",
      "For more information see ?\"startupmsg\", NEWS(\"startupmsg\")\n",
      "\n",
      "Loading required package: sfsmisc\n",
      "Loading required package: SweaveListingUtils\n",
      "Utilities for Sweave Together with TeX 'listings' Package (version 0.7.7)\n",
      "NOTE: Support for this package will stop soon.\n",
      "Package 'knitr' is providing the same functionality in a better way.\n",
      "Some functions from package 'base' are intentionally masked ---see SweaveListingMASK().\n",
      "Note that global options are controlled by SweaveListingoptions() ---c.f. ?\"SweaveListingoptions\".\n",
      "For more information see ?\"SweaveListingUtils\", NEWS(\"SweaveListingUtils\")\n",
      "There is a vignette to this package; try vignette(\"ExampleSweaveListingUtils\").\n",
      "\n",
      "\n",
      "Attaching package: ‘SweaveListingUtils’\n",
      "\n",
      "The following objects are masked from ‘package:base’:\n",
      "\n",
      "    library, require\n",
      "\n",
      "Object Oriented Implementation of Distributions (version 2.6.2)\n",
      "Attention: Arithmetics on distribution objects are understood as operations on corresponding random variables (r.v.s); see distrARITH().\n",
      "Some functions from package 'stats' are intentionally masked ---see distrMASK().\n",
      "Note that global options are controlled by distroptions() ---c.f. ?\"distroptions\".\n",
      "For more information see ?\"distr\", NEWS(\"distr\"), as well as\n",
      "  http://distr.r-forge.r-project.org/\n",
      "Package \"distrDoc\" provides a vignette to this package as well as to several extension packages; try vignette(\"distr\").\n",
      "\n",
      "\n",
      "Attaching package: ‘distr’\n",
      "\n",
      "The following objects are masked from ‘package:stats’:\n",
      "\n",
      "    df, qqplot, sd\n",
      "\n"
     ]
    },
    {
     "data": {
      "text/html": [
       "0.143890994690619"
      ],
      "text/latex": [
       "0.143890994690619"
      ],
      "text/markdown": [
       "0.143890994690619"
      ],
      "text/plain": [
       "[1] 0.143891"
      ]
     },
     "metadata": {},
     "output_type": "display_data"
    },
    {
     "data": {
      "text/html": [
       "0.3"
      ],
      "text/latex": [
       "0.3"
      ],
      "text/markdown": [
       "0.3"
      ],
      "text/plain": [
       "[1] 0.3"
      ]
     },
     "metadata": {},
     "output_type": "display_data"
    },
    {
     "data": {
      "text/html": [
       "<ol class=list-inline>\n",
       "\t<li>3</li>\n",
       "\t<li>1</li>\n",
       "\t<li>4</li>\n",
       "\t<li>5</li>\n",
       "\t<li>4</li>\n",
       "\t<li>4</li>\n",
       "\t<li>4</li>\n",
       "\t<li>1</li>\n",
       "\t<li>4</li>\n",
       "\t<li>2</li>\n",
       "\t<li>2</li>\n",
       "\t<li>2</li>\n",
       "\t<li>4</li>\n",
       "\t<li>1</li>\n",
       "</ol>\n"
      ],
      "text/latex": [
       "\\begin{enumerate*}\n",
       "\\item 3\n",
       "\\item 1\n",
       "\\item 4\n",
       "\\item 5\n",
       "\\item 4\n",
       "\\item 4\n",
       "\\item 4\n",
       "\\item 1\n",
       "\\item 4\n",
       "\\item 2\n",
       "\\item 2\n",
       "\\item 2\n",
       "\\item 4\n",
       "\\item 1\n",
       "\\end{enumerate*}\n"
      ],
      "text/markdown": [
       "1. 3\n",
       "2. 1\n",
       "3. 4\n",
       "4. 5\n",
       "5. 4\n",
       "6. 4\n",
       "7. 4\n",
       "8. 1\n",
       "9. 4\n",
       "10. 2\n",
       "11. 2\n",
       "12. 2\n",
       "13. 4\n",
       "14. 1\n",
       "\n",
       "\n"
      ],
      "text/plain": [
       " [1] 3 1 4 5 4 4 4 1 4 2 2 2 4 1"
      ]
     },
     "metadata": {},
     "output_type": "display_data"
    }
   ],
   "source": [
    "\n",
    "#Ahora podemos realizar operaciones sobre los objetos, con las funciones p(el CDF),\n",
    "#r(numeros aleatorio de acuerdo a la distribucion), d(el PDF), q(funcion de cuantidad)\n",
    "\n",
    "#Hallemos el PDF de la distribucion normal con x= 0.4\n",
    "distro.normal <- distribuciones(ejemp1)\n",
    "d(distro.normal)(0.4)\n",
    "\n",
    "#Hallemos el CDF de la distribucion uniforme con x= 0.6\n",
    "distro.uniforme <- distribuciones(ejem2)\n",
    "p(distro.uniforme)(0.6)\n",
    "\n",
    "#Hallemos numeros aleatorias de la distribucion de poison con x=14\n",
    "distro.poison <- distribuciones(ejem3)\n",
    "r(distro.poison)(14)\n"
   ]
  },
  {
   "cell_type": "code",
   "execution_count": null,
   "metadata": {},
   "outputs": [],
   "source": []
  }
 ],
 "metadata": {
  "kernelspec": {
   "display_name": "R",
   "language": "R",
   "name": "ir"
  },
  "language_info": {
   "codemirror_mode": "r",
   "file_extension": ".r",
   "mimetype": "text/x-r-source",
   "name": "R",
   "pygments_lexer": "r",
   "version": "3.4.3"
  }
 },
 "nbformat": 4,
 "nbformat_minor": 2
}

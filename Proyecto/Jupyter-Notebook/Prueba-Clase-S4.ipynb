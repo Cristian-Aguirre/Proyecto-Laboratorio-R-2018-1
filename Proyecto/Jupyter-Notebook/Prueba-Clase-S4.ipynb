{
 "cells": [
  {
   "cell_type": "code",
   "execution_count": 1,
   "metadata": {},
   "outputs": [],
   "source": [
    "## Ejemplo de clases S4, caracteristicas de personas\n",
    "##\n",
    "## Codigo basado en la programacion orienta a objetos en R,\n",
    "##con fuente en el siguiente post: \n",
    "##\n",
    "## http://digitheadslabnotebook.blogspot.com/2012/09/oo-in-r.html\n",
    "##\n",
    "##Modificado por el grupo 3 para el proyecto del Curso CM-274  \n",
    "##\n",
    "##2018-1\n",
    "################################################################\n",
    "\n",
    "# Defieniendo las clases S4 de personas\n",
    "setClass(\n",
    "  \"Persona\",\n",
    "  representation(name = \"character\", age = \"numeric\"),\n",
    "  prototype(name = NA_character_, age = NA_real_)\n",
    ")\n",
    "\n",
    "# Definiendo subclases de diferentes tipos de personas\n",
    "# Definimos a programadores y matematicos\n",
    "setClass(\"Programador\", representation(language = \"character\"), contains=\"Persona\")\n",
    "setClass(\"Matematico\", representation(especialidad = \"character\"), contains=\"Persona\")\n"
   ]
  },
  {
   "cell_type": "code",
   "execution_count": 2,
   "metadata": {},
   "outputs": [
    {
     "data": {
      "text/html": [
       "'talento'"
      ],
      "text/latex": [
       "'talento'"
      ],
      "text/markdown": [
       "'talento'"
      ],
      "text/plain": [
       "[1] \"talento\""
      ]
     },
     "metadata": {},
     "output_type": "display_data"
    },
    {
     "data": {
      "text/html": [
       "'talento'"
      ],
      "text/latex": [
       "'talento'"
      ],
      "text/markdown": [
       "'talento'"
      ],
      "text/plain": [
       "[1] \"talento\""
      ]
     },
     "metadata": {},
     "output_type": "display_data"
    },
    {
     "data": {
      "text/html": [
       "'talento'"
      ],
      "text/latex": [
       "'talento'"
      ],
      "text/markdown": [
       "'talento'"
      ],
      "text/plain": [
       "[1] \"talento\""
      ]
     },
     "metadata": {},
     "output_type": "display_data"
    }
   ],
   "source": [
    "# Creacion del metodo generico de\"talento\"\n",
    "#talento nos describe el talento de cada persona en su area de trabajo\n",
    "setGeneric(\n",
    "  \"talento\",\n",
    "  function(object) {\n",
    "    standardGeneric(\"talento\")\n",
    "  }\n",
    ")\n",
    "\n",
    "setMethod(\n",
    "  \"talento\",\n",
    "  signature(\"Programador\"),\n",
    "  function(object) {\n",
    "    paste(paste(object@name),\"de\",paste(object@age),\"años, escribe codigos en \",\n",
    "          paste(object@language, collapse=\", \"))\n",
    "  }\n",
    ")\n",
    "\n",
    "setMethod(\n",
    "  \"talento\",\n",
    "  signature(\"Matematico\"),\n",
    "  function(object) {\n",
    "    paste(paste(object@name),\"de\",paste(object@age),\"años, se especializa en\", \n",
    "          paste(object@especialidad, collapse=\", \"))\n",
    "  }\n",
    ")\n"
   ]
  },
  {
   "cell_type": "code",
   "execution_count": 3,
   "metadata": {},
   "outputs": [],
   "source": [
    "# Creamos algunas personas(objetos) con diferentes caracteristicas\n",
    "cristian <- new(\"Programador\",\n",
    "              name=\"Cristian Aguirre\",\n",
    "              age=22,\n",
    "              language=c(\"C\", \"Java\", \"R\", \"C++\"))\n",
    "\n",
    "jesus <- new(\"Programador\",\n",
    "                name=\"Jesus Condor\",\n",
    "                age=30,\n",
    "              language=c(\"C++\", \"JavaScript\", \"R\"))\n",
    "\n",
    "jean <- new(\"Matematico\",\n",
    "             name=\"Jean Alvitres\",\n",
    "            age = 27,\n",
    "             especialidad=c(\"Estadistica\", \"Conjetura de Goldbash\"))\n",
    "\n",
    "martin <- new(\"Matematico\",\n",
    "            name=\"Martin Lopez\",\n",
    "            age= 33,\n",
    "            especialidad=c(\"Ciencia de datos\", \"Inferencia estadistica\"))\n"
   ]
  },
  {
   "cell_type": "code",
   "execution_count": 4,
   "metadata": {},
   "outputs": [
    {
     "data": {
      "text/html": [
       "<span style=white-space:pre-wrap>'Cristian Aguirre de 22 años, escribe codigos en  C, Java, R, C++'</span>"
      ],
      "text/latex": [
       "'Cristian Aguirre de 22 años, escribe codigos en  C, Java, R, C++'"
      ],
      "text/markdown": [
       "<span style=white-space:pre-wrap>'Cristian Aguirre de 22 años, escribe codigos en  C, Java, R, C++'</span>"
      ],
      "text/plain": [
       "[1] \"Cristian Aguirre de 22 años, escribe codigos en  C, Java, R, C++\""
      ]
     },
     "metadata": {},
     "output_type": "display_data"
    },
    {
     "data": {
      "text/html": [
       "<span style=white-space:pre-wrap>'Jesus Condor de 30 años, escribe codigos en  C++, JavaScript, R'</span>"
      ],
      "text/latex": [
       "'Jesus Condor de 30 años, escribe codigos en  C++, JavaScript, R'"
      ],
      "text/markdown": [
       "<span style=white-space:pre-wrap>'Jesus Condor de 30 años, escribe codigos en  C++, JavaScript, R'</span>"
      ],
      "text/plain": [
       "[1] \"Jesus Condor de 30 años, escribe codigos en  C++, JavaScript, R\""
      ]
     },
     "metadata": {},
     "output_type": "display_data"
    },
    {
     "data": {
      "text/html": [
       "'Jean Alvitres de 27 años, se especializa en Estadistica, Conjetura de Goldbash'"
      ],
      "text/latex": [
       "'Jean Alvitres de 27 años, se especializa en Estadistica, Conjetura de Goldbash'"
      ],
      "text/markdown": [
       "'Jean Alvitres de 27 años, se especializa en Estadistica, Conjetura de Goldbash'"
      ],
      "text/plain": [
       "[1] \"Jean Alvitres de 27 años, se especializa en Estadistica, Conjetura de Goldbash\""
      ]
     },
     "metadata": {},
     "output_type": "display_data"
    }
   ],
   "source": [
    "## Informacion de cada persona(objeto)\n",
    "\n",
    "talento(cristian)\n",
    "# Codigos escritos en C, C++, R, Java\n",
    "\n",
    "talento(jesus)\n",
    "# Codigos escritos en C++, Javascript, R\n",
    "\n",
    "talento(jean)\n",
    "# Especializa en Estadistica y Conjetura de Goldbash\n"
   ]
  },
  {
   "cell_type": "code",
   "execution_count": 5,
   "metadata": {},
   "outputs": [],
   "source": [
    "\n",
    "# Funcion que describe a una persona, programador o matematico\n",
    "getNameAndTitle <- function(person) {\n",
    "  sprintf(\"%s, %s\", person@name, class(person))\n",
    "}\n"
   ]
  },
  {
   "cell_type": "code",
   "execution_count": 6,
   "metadata": {},
   "outputs": [
    {
     "data": {
      "text/html": [
       "'Cristian Aguirre, Programador'"
      ],
      "text/latex": [
       "'Cristian Aguirre, Programador'"
      ],
      "text/markdown": [
       "'Cristian Aguirre, Programador'"
      ],
      "text/plain": [
       "[1] \"Cristian Aguirre, Programador\""
      ]
     },
     "metadata": {},
     "output_type": "display_data"
    },
    {
     "data": {
      "text/html": [
       "'Martin Lopez, Matematico'"
      ],
      "text/latex": [
       "'Martin Lopez, Matematico'"
      ],
      "text/markdown": [
       "'Martin Lopez, Matematico'"
      ],
      "text/plain": [
       "[1] \"Martin Lopez, Matematico\""
      ]
     },
     "metadata": {},
     "output_type": "display_data"
    }
   ],
   "source": [
    "\n",
    "#Informacion de cristian\n",
    "getNameAndTitle(cristian)\n",
    "\n",
    "#Informacion de martin\n",
    "getNameAndTitle(martin)\n",
    "\n"
   ]
  },
  {
   "cell_type": "code",
   "execution_count": 7,
   "metadata": {},
   "outputs": [],
   "source": [
    "\n",
    "# Escribiremos una funcion que cambie el estado de su salario de una persona\n",
    "# Una persona puede recibir un aumento o descuento\n",
    "\n",
    "#Cremos la clase empleado, para una persona que esta contratada\n",
    "setClass(\"Empleado\",\n",
    "         representation(boss = \"Persona\", salary=\"numeric\"),\n",
    "         contains = \"Persona\")\n"
   ]
  },
  {
   "cell_type": "code",
   "execution_count": 8,
   "metadata": {},
   "outputs": [
    {
     "data": {
      "text/html": [
       "'cambio'"
      ],
      "text/latex": [
       "'cambio'"
      ],
      "text/markdown": [
       "'cambio'"
      ],
      "text/plain": [
       "[1] \"cambio\""
      ]
     },
     "metadata": {},
     "output_type": "display_data"
    },
    {
     "data": {
      "text/html": [
       "'cambio'"
      ],
      "text/latex": [
       "'cambio'"
      ],
      "text/markdown": [
       "'cambio'"
      ],
      "text/plain": [
       "[1] \"cambio\""
      ]
     },
     "metadata": {},
     "output_type": "display_data"
    }
   ],
   "source": [
    "#Creacion de los metodos para el objeto empleado\n",
    "\n",
    "#El metodo generico para aumento\n",
    "setGeneric(\n",
    "  \"cambio\",\n",
    "  function(object, percent=0) {\n",
    "    standardGeneric(\"cambio\")\n",
    "  })\n",
    "\n",
    "#Metodo cambio, para efectuar al cambio de salario\n",
    "setMethod(\n",
    "  \"cambio\",\n",
    "  signature(\"Empleado\"),\n",
    "  function(object, percent) {\n",
    "    object@salary <- object@salary * (1+(percent/100))\n",
    "    object\n",
    "  })\n",
    "\n"
   ]
  },
  {
   "cell_type": "code",
   "execution_count": 9,
   "metadata": {},
   "outputs": [],
   "source": [
    "## Creamos el objeto carlos:\n",
    "\n",
    "carlos <- new(\"Empleado\",\n",
    "                name=\"Carlos Espinoza\",\n",
    "                boss=new(\"Persona\",name=\"Mr. Aguirre\"),\n",
    "                salary=1500)\n"
   ]
  },
  {
   "cell_type": "code",
   "execution_count": 10,
   "metadata": {},
   "outputs": [
    {
     "data": {
      "text/html": [
       "1500"
      ],
      "text/latex": [
       "1500"
      ],
      "text/markdown": [
       "1500"
      ],
      "text/plain": [
       "[1] 1500"
      ]
     },
     "metadata": {},
     "output_type": "display_data"
    },
    {
     "data": {
      "text/html": [
       "1650"
      ],
      "text/latex": [
       "1650"
      ],
      "text/markdown": [
       "1650"
      ],
      "text/plain": [
       "[1] 1650"
      ]
     },
     "metadata": {},
     "output_type": "display_data"
    }
   ],
   "source": [
    "\n",
    "#Salario actual de carlos, antes del aumento\n",
    "carlos@salary\n",
    "\n",
    "# Mr. Aguirre le ofrece un aumento de salario a carlos\n",
    "carlos <-cambio(carlos, percent=10)\n",
    "\n",
    "#Mostramos el salario de carlos\n",
    "carlos@salary\n",
    "\n"
   ]
  },
  {
   "cell_type": "code",
   "execution_count": 11,
   "metadata": {},
   "outputs": [],
   "source": [
    "\n",
    "## Ahora describimos la clase de un programador que a sido contratado\n",
    "setClass(\"Programador contratado\", contains=c(\"Programador\",\"Empleado\"))\n"
   ]
  },
  {
   "cell_type": "code",
   "execution_count": 12,
   "metadata": {},
   "outputs": [
    {
     "data": {
      "text/html": [
       "'talento'"
      ],
      "text/latex": [
       "'talento'"
      ],
      "text/markdown": [
       "'talento'"
      ],
      "text/plain": [
       "[1] \"talento\""
      ]
     },
     "metadata": {},
     "output_type": "display_data"
    }
   ],
   "source": [
    "#Creamos el metodo talento para un programador contratado\n",
    "\n",
    "setMethod(\n",
    "  \"talento\",\n",
    "  signature(\"Programador contratado\"),\n",
    "  function(object) {\n",
    "    paste(\"Codigos escritos en \", paste(object@language, collapse=\", \"), \"para \", object@boss@name)\n",
    "  }\n",
    ")\n"
   ]
  },
  {
   "cell_type": "code",
   "execution_count": 13,
   "metadata": {},
   "outputs": [
    {
     "data": {
      "text/html": [
       "<span style=white-space:pre-wrap>'Codigos escritos en  Java, R, Python, Clojure para  Aguirre'</span>"
      ],
      "text/latex": [
       "'Codigos escritos en  Java, R, Python, Clojure para  Aguirre'"
      ],
      "text/markdown": [
       "<span style=white-space:pre-wrap>'Codigos escritos en  Java, R, Python, Clojure para  Aguirre'</span>"
      ],
      "text/plain": [
       "[1] \"Codigos escritos en  Java, R, Python, Clojure para  Aguirre\""
      ]
     },
     "metadata": {},
     "output_type": "display_data"
    }
   ],
   "source": [
    "##Creamos el objeto cesar con las siquiente caracteristicas(lenguaje, salario)\n",
    "\n",
    "# Un programdor que ha sido contratado\n",
    "cesar <- new(\"Programador contratado\",\n",
    "             name=\"Cesar\",\n",
    "             age=29,\n",
    "             boss=new(\"Persona\", name=\"Aguirre\", age=22),\n",
    "             language=c(\"Java\", \"R\", \"Python\", \"Clojure\"),\n",
    "             salary=8000)\n",
    "\n",
    "talento(cesar)\n",
    "\n"
   ]
  },
  {
   "cell_type": "code",
   "execution_count": 14,
   "metadata": {},
   "outputs": [
    {
     "data": {
      "text/html": [
       "8000"
      ],
      "text/latex": [
       "8000"
      ],
      "text/markdown": [
       "8000"
      ],
      "text/plain": [
       "[1] 8000"
      ]
     },
     "metadata": {},
     "output_type": "display_data"
    },
    {
     "data": {
      "text/html": [
       "7200"
      ],
      "text/latex": [
       "7200"
      ],
      "text/markdown": [
       "7200"
      ],
      "text/plain": [
       "[1] 7200"
      ]
     },
     "metadata": {},
     "output_type": "display_data"
    }
   ],
   "source": [
    "\n",
    "#Salario de cesar, antes del descuento\n",
    "cesar@salary\n",
    "\n",
    "#Si cesar es un mal programador se le hara un descuento de salario\n",
    "cesar <-cambio(cesar,percent=-10)\n",
    "\n",
    "#Mostramos el nuevo salario de Cesar\n",
    "cesar@salary\n",
    "\n"
   ]
  },
  {
   "cell_type": "code",
   "execution_count": 15,
   "metadata": {},
   "outputs": [
    {
     "data": {
      "text/html": [
       "'juntos'"
      ],
      "text/latex": [
       "'juntos'"
      ],
      "text/markdown": [
       "'juntos'"
      ],
      "text/plain": [
       "[1] \"juntos\""
      ]
     },
     "metadata": {},
     "output_type": "display_data"
    },
    {
     "data": {
      "text/html": [
       "'juntos'"
      ],
      "text/latex": [
       "'juntos'"
      ],
      "text/markdown": [
       "'juntos'"
      ],
      "text/plain": [
       "[1] \"juntos\""
      ]
     },
     "metadata": {},
     "output_type": "display_data"
    },
    {
     "data": {
      "text/html": [
       "'juntos'"
      ],
      "text/latex": [
       "'juntos'"
      ],
      "text/markdown": [
       "'juntos'"
      ],
      "text/plain": [
       "[1] \"juntos\""
      ]
     },
     "metadata": {},
     "output_type": "display_data"
    },
    {
     "data": {
      "text/html": [
       "'juntos'"
      ],
      "text/latex": [
       "'juntos'"
      ],
      "text/markdown": [
       "'juntos'"
      ],
      "text/plain": [
       "[1] \"juntos\""
      ]
     },
     "metadata": {},
     "output_type": "display_data"
    },
    {
     "data": {
      "text/html": [
       "'juntos'"
      ],
      "text/latex": [
       "'juntos'"
      ],
      "text/markdown": [
       "'juntos'"
      ],
      "text/plain": [
       "[1] \"juntos\""
      ]
     },
     "metadata": {},
     "output_type": "display_data"
    }
   ],
   "source": [
    "\n",
    "# Ahora, detallaremos metodos que nos describan como \n",
    "# trabajaran un par de personas, matematicos y programadores\n",
    "\n",
    "#Metodo generico\n",
    "setGeneric(\n",
    "  \"juntos\",\n",
    "  function(persona1, persona2) {\n",
    "    standardGeneric(\"juntos\")\n",
    "  })\n",
    "\n",
    "setMethod(\n",
    "  \"juntos\",\n",
    "  signature(\"Matematico\", \"Matematico\"),\n",
    "  function(persona1, persona2) {\n",
    "    sprintf(\"%s y %s pueden investigar conjeturas juntos!\", persona1@name, persona2@name)\n",
    "  })\n",
    "\n",
    "setMethod(\n",
    "  \"juntos\",\n",
    "  signature(\"Matematico\", \"Programador\"),\n",
    "  function(persona1, persona2) {\n",
    "    sprintf(\"%s y %s pueden reaizar un proyecto de Ciencia de datos!\", persona1@name, persona2@name)\n",
    "  })\n",
    "\n",
    "setMethod(\n",
    "  \"juntos\",\n",
    "  signature(\"Programador\", \"Programador\"),\n",
    "  function(persona1, persona2) {\n",
    "    sprintf(\"%s y %s pueden desarrollar software!\", persona1@name, persona2@name)\n",
    "  })\n",
    "\n",
    "setMethod(\n",
    "  \"juntos\",\n",
    "  signature(\"Programador\", \"Matematico\"),\n",
    "  function(persona1, persona2) {\n",
    "    sprintf(\"%s y %s pueden reaizar un proyecto de Ciencia de datos!\", persona1@name, persona2@name)\n",
    "  })\n"
   ]
  },
  {
   "cell_type": "code",
   "execution_count": 16,
   "metadata": {},
   "outputs": [
    {
     "data": {
      "text/html": [
       "'Cristian Aguirre y Jesus Condor pueden desarrollar software!'"
      ],
      "text/latex": [
       "'Cristian Aguirre y Jesus Condor pueden desarrollar software!'"
      ],
      "text/markdown": [
       "'Cristian Aguirre y Jesus Condor pueden desarrollar software!'"
      ],
      "text/plain": [
       "[1] \"Cristian Aguirre y Jesus Condor pueden desarrollar software!\""
      ]
     },
     "metadata": {},
     "output_type": "display_data"
    },
    {
     "data": {
      "text/html": [
       "'Jean Alvitres y Jesus Condor pueden reaizar un proyecto de Ciencia de datos!'"
      ],
      "text/latex": [
       "'Jean Alvitres y Jesus Condor pueden reaizar un proyecto de Ciencia de datos!'"
      ],
      "text/markdown": [
       "'Jean Alvitres y Jesus Condor pueden reaizar un proyecto de Ciencia de datos!'"
      ],
      "text/plain": [
       "[1] \"Jean Alvitres y Jesus Condor pueden reaizar un proyecto de Ciencia de datos!\""
      ]
     },
     "metadata": {},
     "output_type": "display_data"
    },
    {
     "data": {
      "text/html": [
       "'Cristian Aguirre y Jean Alvitres pueden reaizar un proyecto de Ciencia de datos!'"
      ],
      "text/latex": [
       "'Cristian Aguirre y Jean Alvitres pueden reaizar un proyecto de Ciencia de datos!'"
      ],
      "text/markdown": [
       "'Cristian Aguirre y Jean Alvitres pueden reaizar un proyecto de Ciencia de datos!'"
      ],
      "text/plain": [
       "[1] \"Cristian Aguirre y Jean Alvitres pueden reaizar un proyecto de Ciencia de datos!\""
      ]
     },
     "metadata": {},
     "output_type": "display_data"
    }
   ],
   "source": [
    "\n",
    "#Como trabajan juntos cristian y jesus\n",
    "juntos(cristian, jesus)\n",
    "\n",
    "#Como trabajan juntos jean y jesus\n",
    "juntos(jean, jesus)\n",
    "\n",
    "#Como trabajan juntos cristian y jean\n",
    "juntos(cristian, jean)\n"
   ]
  }
 ],
 "metadata": {
  "kernelspec": {
   "display_name": "R",
   "language": "R",
   "name": "ir"
  },
  "language_info": {
   "codemirror_mode": "r",
   "file_extension": ".r",
   "mimetype": "text/x-r-source",
   "name": "R",
   "pygments_lexer": "r",
   "version": "3.4.3"
  }
 },
 "nbformat": 4,
 "nbformat_minor": 2
}

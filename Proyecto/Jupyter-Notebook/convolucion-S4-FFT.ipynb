{
 "cells": [
  {
   "cell_type": "code",
   "execution_count": 1,
   "metadata": {},
   "outputs": [],
   "source": [
    "\n",
    "### Eficiencia computacional de nuestros algoritmos mediante la distancia de Kolmogorov\n",
    "\n",
    "## Clases S4\n",
    "\n",
    "#Crearemos la clase Kolmogorov-Binomial como prueba\n",
    "\n",
    "#Clase Kolmogorov-Binomial con parametros n, p, potencia\n",
    "setClass(\n",
    "  \"Kolmogorov-Binomial\", representation(n=\"numeric\", p=\"numeric\", potencia=\"numeric\"),\n",
    "  prototype(n=NA_integer_, p=NA_real_, potencia= NA_integer_)\n",
    ")\n"
   ]
  },
  {
   "cell_type": "code",
   "execution_count": 2,
   "metadata": {},
   "outputs": [
    {
     "data": {
      "text/html": [
       "'kolmogorov'"
      ],
      "text/latex": [
       "'kolmogorov'"
      ],
      "text/markdown": [
       "'kolmogorov'"
      ],
      "text/plain": [
       "[1] \"kolmogorov\""
      ]
     },
     "metadata": {},
     "output_type": "display_data"
    },
    {
     "data": {
      "text/html": [
       "'kolmogorov'"
      ],
      "text/latex": [
       "'kolmogorov'"
      ],
      "text/markdown": [
       "'kolmogorov'"
      ],
      "text/plain": [
       "[1] \"kolmogorov\""
      ]
     },
     "metadata": {},
     "output_type": "display_data"
    }
   ],
   "source": [
    "## Creamos los metodos de la clase S4\n",
    "\n",
    "#Crearemos el metodo generico y un metodo para nuestra clase Kolmogorov-Binomial\n",
    "\n",
    "#Metodo generico para el metodo kolmogorov\n",
    "setGeneric(\n",
    "  \"kolmogorov\",\n",
    "  function(object){\n",
    "    standardGeneric(\"kolmogorov\")\n",
    "  }\n",
    ")\n",
    "\n",
    "#Metodo kolmogorov sobre la distribucion Binomial\n",
    "setMethod(\n",
    "  \"kolmogorov\",\n",
    "  signature(\"Kolmogorov-Binomial\"),\n",
    "  function(object){\n",
    "    library(\"distrEx\")\n",
    "    distroptions(TruncQuantile = 1e-15)\n",
    "    B1 <- Binom(size = object@n, prob = object@p)\n",
    "    B2 <- convpow(B1, N = object@potencia)\n",
    "    D1 <- as(B1, \"LatticeDistribution\")\n",
    "    D2 <- convpow(D1, N = object@potencia)\n",
    "    D3 <- KolmogorovDist(B2, D2)\n",
    "  }\n",
    "  \n",
    ")\n"
   ]
  },
  {
   "cell_type": "code",
   "execution_count": 3,
   "metadata": {},
   "outputs": [],
   "source": [
    "## Creamos nuestros objetos de prueba\n",
    "\n",
    "#Crearemos 2 objetos de prueba para encontrar la eficacia de FFT sobre nuestra distribucion binomial\n",
    "\n",
    "ejem6 <- new(\"Kolmogorov-Binomial\",\n",
    "          n=30, p= 0.8,                  # Parametros de distribucion binomial\n",
    "          potencia= 10\n",
    ")\n",
    "\n",
    "ejem7 <- new(\"Kolmogorov-Binomial\",\n",
    "             n=50, p= 0.43,             # Parametros de distribucion binomial\n",
    "             potencia= 18\n",
    ")\n"
   ]
  },
  {
   "cell_type": "code",
   "execution_count": 4,
   "metadata": {},
   "outputs": [
    {
     "name": "stderr",
     "output_type": "stream",
     "text": [
      "Loading required package: distr\n",
      "Loading required package: startupmsg\n",
      "Utilities for Start-Up Messages (version 0.9.4)\n",
      "For more information see ?\"startupmsg\", NEWS(\"startupmsg\")\n",
      "\n",
      "Loading required package: sfsmisc\n",
      "Loading required package: SweaveListingUtils\n",
      "Utilities for Sweave Together with TeX 'listings' Package (version 0.7.7)\n",
      "NOTE: Support for this package will stop soon.\n",
      "Package 'knitr' is providing the same functionality in a better way.\n",
      "Some functions from package 'base' are intentionally masked ---see SweaveListingMASK().\n",
      "Note that global options are controlled by SweaveListingoptions() ---c.f. ?\"SweaveListingoptions\".\n",
      "For more information see ?\"SweaveListingUtils\", NEWS(\"SweaveListingUtils\")\n",
      "There is a vignette to this package; try vignette(\"ExampleSweaveListingUtils\").\n",
      "\n",
      "\n",
      "Attaching package: ‘SweaveListingUtils’\n",
      "\n",
      "The following objects are masked from ‘package:base’:\n",
      "\n",
      "    library, require\n",
      "\n",
      "Object Oriented Implementation of Distributions (version 2.6.2)\n",
      "Attention: Arithmetics on distribution objects are understood as operations on corresponding random variables (r.v.s); see distrARITH().\n",
      "Some functions from package 'stats' are intentionally masked ---see distrMASK().\n",
      "Note that global options are controlled by distroptions() ---c.f. ?\"distroptions\".\n",
      "For more information see ?\"distr\", NEWS(\"distr\"), as well as\n",
      "  http://distr.r-forge.r-project.org/\n",
      "Package \"distrDoc\" provides a vignette to this package as well as to several extension packages; try vignette(\"distr\").\n",
      "\n",
      "\n",
      "Attaching package: ‘distr’\n",
      "\n",
      "The following objects are masked from ‘package:stats’:\n",
      "\n",
      "    df, qqplot, sd\n",
      "\n",
      "Extensions of Package 'distr' (version 2.6.1)\n",
      "Note: Packages \"e1071\", \"moments\", \"fBasics\" should be attached /before/ package \"distrEx\". See distrExMASK().Note: Extreme value distribution functionality has been moved to\n",
      "      package \"RobExtremes\". See distrExMOVED().\n",
      "For more information see ?\"distrEx\", NEWS(\"distrEx\"), as well as\n",
      "  http://distr.r-forge.r-project.org/\n",
      "Package \"distrDoc\" provides a vignette to this package as well as to several related packages; try vignette(\"distr\").\n",
      "\n",
      "\n",
      "Attaching package: ‘distrEx’\n",
      "\n",
      "The following objects are masked from ‘package:stats’:\n",
      "\n",
      "    IQR, mad, median, var\n",
      "\n"
     ]
    },
    {
     "data": {
      "text/html": [
       "<strong>Kolmogorov distance:</strong> 2.31979185990822e-06"
      ],
      "text/latex": [
       "\\textbf{Kolmogorov distance:} 2.31979185990822e-06"
      ],
      "text/markdown": [
       "**Kolmogorov distance:** 2.31979185990822e-06"
      ],
      "text/plain": [
       "Kolmogorov distance \n",
       "       2.319792e-06 "
      ]
     },
     "metadata": {},
     "output_type": "display_data"
    },
    {
     "data": {
      "text/html": [
       "<strong>Kolmogorov distance:</strong> 3.14732864347999e-06"
      ],
      "text/latex": [
       "\\textbf{Kolmogorov distance:} 3.14732864347999e-06"
      ],
      "text/markdown": [
       "**Kolmogorov distance:** 3.14732864347999e-06"
      ],
      "text/plain": [
       "Kolmogorov distance \n",
       "       3.147329e-06 "
      ]
     },
     "metadata": {},
     "output_type": "display_data"
    }
   ],
   "source": [
    "### Ahora veamos la eficacia del metodo FFT, mediante la distancia de Kolmogorov\n",
    "\n",
    "\n",
    "ejemplo2.conv <- kolmogorov(ejem6)\n",
    "ejemplo2.conv\n",
    "\n",
    "ejemplo3.conv <- kolmogorov(ejem7)\n",
    "ejemplo3.conv\n"
   ]
  },
  {
   "cell_type": "code",
   "execution_count": 5,
   "metadata": {},
   "outputs": [],
   "source": [
    "### Ahora, como ultimo ejemplo, vamos a mostrar como hay varios pasos para obtener la convolucion \n",
    "###de la suma de distribuciones no centrales chi-squared\n",
    "\n",
    "## Tenemos que tener en cuenta ciertos parametros\n",
    "\n",
    "## df = grado de libertad\n",
    "## ncp = parametro no centralizado \n",
    "\n",
    "#Primer metodo\n",
    "\n",
    "library(\"distr\")\n",
    "distroptions(withgaps = FALSE)\n",
    "distroptions(TruncQuantile = 1e-8)              # Parametro de truncamiento de FFT\n",
    "distroptions(DefaultNrFFTGridPointsExponent = 18)\n",
    "\n",
    "#Primer metodo (FFT1) para hallar chi-squared\n",
    "df0 <- 4                  # Grado de libertad = 4\n",
    "ncp0 <- 4                 #parametro no centralizado \n",
    "x0 <- 1.765               # x = 1.765\n",
    "Z <- Norm(mean = sqrt(ncp0/df0))       # media igual a sqrt(ncp0/df0), varianza 1\n",
    "Z2 <- Z^2                                 # Z2 <- Z^2  (chi-squared)\n",
    "res1 <- convpow(Z2, N = df0)            # Convolucion de Z2  (Z2^4)\n",
    "\n"
   ]
  },
  {
   "cell_type": "code",
   "execution_count": 6,
   "metadata": {},
   "outputs": [],
   "source": [
    "\n",
    "\n",
    "#Segundo metodo (FFT2)\n",
    "Z <- Norm()             #Media igual a 0 , varianza 1\n",
    "Z2 <- Z^2               # Z^2 (chi-squared)\n",
    "X2 <- convpow(Z2, N = df0-1)           #Convolucion de de Z2^df0-1\n",
    "Y2 <- Norm(mean = sqrt(ncp0))^2        #Y2 sera el ultimo factor a sumar \n",
    "res2 <- X2 + Y2               #Completamos la convolucion con el ultimo factor (Y2)\n"
   ]
  },
  {
   "cell_type": "code",
   "execution_count": 7,
   "metadata": {},
   "outputs": [],
   "source": [
    "#Tercer metodo (FFT3)\n",
    "res3 <- Chisq(df = df0-1) + Y2    # Tenemos la distribucion chi-squared(df0-1) + Y2(ultimo factor)\n"
   ]
  },
  {
   "cell_type": "code",
   "execution_count": 8,
   "metadata": {},
   "outputs": [
    {
     "data": {
      "text/html": [
       "<dl class=dl-horizontal>\n",
       "\t<dt>FFT1</dt>\n",
       "\t\t<dd>0.0499986468923873</dd>\n",
       "\t<dt>FFT2</dt>\n",
       "\t\t<dd>0.049999241206721</dd>\n",
       "\t<dt>FFT3</dt>\n",
       "\t\t<dd>0.0499993597864406</dd>\n",
       "\t<dt>R</dt>\n",
       "\t\t<dd>0.0499993747147179</dd>\n",
       "</dl>\n"
      ],
      "text/latex": [
       "\\begin{description*}\n",
       "\\item[FFT1] 0.0499986468923873\n",
       "\\item[FFT2] 0.049999241206721\n",
       "\\item[FFT3] 0.0499993597864406\n",
       "\\item[R] 0.0499993747147179\n",
       "\\end{description*}\n"
      ],
      "text/markdown": [
       "FFT1\n",
       ":   0.0499986468923873FFT2\n",
       ":   0.049999241206721FFT3\n",
       ":   0.0499993597864406R\n",
       ":   0.0499993747147179\n",
       "\n"
      ],
      "text/plain": [
       "      FFT1       FFT2       FFT3          R \n",
       "0.04999865 0.04999924 0.04999936 0.04999937 "
      ]
     },
     "metadata": {},
     "output_type": "display_data"
    }
   ],
   "source": [
    "### Mostremos los resultados por medio del 1 metodo (FFT1), segundo metodo (FFT2), tercer metodo (FFT3)\n",
    "###y el resultado obtenido por el comando directo Chi-squared\n",
    "\n",
    "#Mostramos los 3 resultados obtenidos , de la siguient manera\n",
    "res <- c(p(res1)(x0), p(res2)(x0), p(res3)(x0),\n",
    "            +           pchisq(x0, df = df0, ncp = ncp0))\n",
    "names(res) <- c(\"FFT1\", \"FFT2\", \"FFT3\", \"R\")\n",
    "res\n"
   ]
  },
  {
   "cell_type": "code",
   "execution_count": null,
   "metadata": {},
   "outputs": [],
   "source": []
  }
 ],
 "metadata": {
  "kernelspec": {
   "display_name": "R",
   "language": "R",
   "name": "ir"
  },
  "language_info": {
   "codemirror_mode": "r",
   "file_extension": ".r",
   "mimetype": "text/x-r-source",
   "name": "R",
   "pygments_lexer": "r",
   "version": "3.4.3"
  }
 },
 "nbformat": 4,
 "nbformat_minor": 2
}
